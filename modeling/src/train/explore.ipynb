{
 "cells": [
  {
   "cell_type": "code",
   "execution_count": 5,
   "metadata": {},
   "outputs": [],
   "source": [
    "from glob import glob\n",
    "from PIL import Image\n",
    "import numpy as np\n",
    "\n",
    "img_paths = []\n",
    "for labels in sorted(glob('../data/online_raw/*')):\n",
    "    for image in sorted(glob(labels+'/*')):\n",
    "        try:\n",
    "            Image.open(image)\n",
    "            img_paths.append(image)\n",
    "        except:\n",
    "            pass"
   ]
  },
  {
   "cell_type": "code",
   "execution_count": 6,
   "metadata": {},
   "outputs": [],
   "source": [
    "import json\n",
    "with open('pool.json', 'w') as f:\n",
    "    json.dump({'PATH': img_paths}, f)"
   ]
  },
  {
   "cell_type": "code",
   "execution_count": 1,
   "metadata": {},
   "outputs": [],
   "source": [
    "# PCA\n",
    "import numpy as np\n",
    "X = np.load('feature.npy').squeeze()\n",
    "y = np.load('label.npy').squeeze()"
   ]
  },
  {
   "cell_type": "code",
   "execution_count": 2,
   "metadata": {},
   "outputs": [
    {
     "data": {
      "image/png": "[encoded data removed]",
      "text/plain": [
       "<Figure size 432x288 with 1 Axes>"
      ]
     },
     "metadata": {
      "needs_background": "light"
     },
     "output_type": "display_data"
    }
   ],
   "source": [
    "from sklearn.decomposition import PCA\n",
    "import matplotlib.pyplot as plt\n",
    "\n",
    "pca = PCA(n_components=2)\n",
    "X_pca = pca.fit_transform(X)\n",
    "label_color_dict = {0:'red',1:'yellow',2:'green',3:'blue',4:'black',5:'magenta',6:'skyblue'}\n",
    "for i in range(len(y)):\n",
    "    plt.scatter(X_pca[i,0], X_pca[i,1], c=label_color_dict[y[i]])"
   ]
  },
  {
   "cell_type": "code",
   "execution_count": 3,
   "metadata": {},
   "outputs": [],
   "source": [
    "import torch\n",
    "import pickle\n",
    "from generic_onlinelearner import CustomEncoderModel\n",
    "encoder = CustomEncoderModel()\n",
    "pretrained_dict = torch.load('best.pth')\n",
    "model_dict = encoder.state_dict()\n",
    "pretrained_dict = {k:v for k,v in pretrained_dict.items() if k in model_dict}\n",
    "model_dict.update(pretrained_dict)\n",
    "encoder.load_state_dict(model_dict)\n",
    "with open('best.pkl', 'wb') as f:\n",
    "    pickle.dump(encoder, f)"
   ]
  }
 ],
 "metadata": {
  "kernelspec": {
   "display_name": "Python 3.8.12 ('wblab': conda)",
   "language": "python",
   "name": "python3"
  },
  "language_info": {
   "codemirror_mode": {
    "name": "ipython",
    "version": 3
   },
   "file_extension": ".py",
   "mimetype": "text/x-python",
   "name": "python",
   "nbconvert_exporter": "python",
   "pygments_lexer": "ipython3",
   "version": "3.8.12 (default, Oct 12 2021, 13:49:34) \n[GCC 7.5.0]"
  },
  "orig_nbformat": 4,
  "vscode": {
   "interpreter": {
    "hash": "a7283430bbf6b610aad2b08475f83cdde5c30b9ed8ebcc768249df65b8e7f1bf"
   }
  }
 },
 "nbformat": 4,
 "nbformat_minor": 2
}
