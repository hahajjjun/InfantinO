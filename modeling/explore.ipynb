{
 "cells": [
  {
   "cell_type": "code",
   "execution_count": 47,
   "metadata": {},
   "outputs": [],
   "source": [
    "import numpy as np\n",
    "import pandas as pd\n",
    "\n",
    "train_df = pd.read_csv('./src/data/train.csv')\n",
    "for i in range(len(train_df)):\n",
    "    img = np.array(train_df['pixels'][i].split(' '), dtype=int)\n",
    "    img = np.reshape(img, (48,48))\n",
    "    img = np.stack([img, img, img], axis=0)\n",
    "    np.save(f'./src/data/processed/train/A_{i}.npy', img)"
   ]
  },
  {
   "cell_type": "code",
   "execution_count": 50,
   "metadata": {},
   "outputs": [],
   "source": [
    "np.save('/home/jhpark/InfantinO/src/data/processed/train_lb.npy', np.array(train_df['emotion']))"
   ]
  },
  {
   "cell_type": "code",
   "execution_count": 51,
   "metadata": {},
   "outputs": [],
   "source": [
    "test_df = pd.read_csv('./src/data/test.csv')\n",
    "for i in range(len(test_df)):\n",
    "    img = np.array(test_df['pixels'][i].split(' '), dtype=int)\n",
    "    img = np.reshape(img, (48,48))\n",
    "    img = np.stack([img, img, img], axis=0)\n",
    "    np.save(f'./src/data/processed/test/A_{i}.npy', img)"
   ]
  },
  {
   "cell_type": "code",
   "execution_count": 15,
   "metadata": {},
   "outputs": [],
   "source": [
    "from urllib.request import urlopen\n",
    "import requests\n",
    "import albumentations as A\n",
    "import numpy as np\n",
    "from PIL import Image\n",
    "\n",
    "def img2vec(url):\n",
    "    response = requests.get(url)\n",
    "    img = np.array(Image.open(urlopen(url)))\n",
    "    if img.shape[2] > 3:\n",
    "        img = img[...,:3]\n",
    "    transform = A.Compose(\n",
    "                A.Sequential([\n",
    "                    A.Normalize(),\n",
    "                    A.Resize(64,64)\n",
    "                ])\n",
    "            )\n",
    "    img = transform(image=img)['image']\n",
    "    img = np.transpose(img, axes=(2,0,1))\n",
    "    return img[0,:,:]"
   ]
  },
  {
   "cell_type": "code",
   "execution_count": 17,
   "metadata": {},
   "outputs": [],
   "source": [
    "out = img2vec(\"https://hoyeon-1.s3.ap-northeast-2.amazonaws.com/inference/disgust/hihi.PNG\")"
   ]
  },
  {
   "cell_type": "code",
   "execution_count": 18,
   "metadata": {},
   "outputs": [
    {
     "data": {
      "text/plain": [
       "<matplotlib.image.AxesImage at 0x7f02ce596e80>"
      ]
     },
     "execution_count": 18,
     "metadata": {},
     "output_type": "execute_result"
    },
    {
     "data": {
      "image/png": "[encoded data removed]",
      "text/plain": [
       "<Figure size 432x288 with 1 Axes>"
      ]
     },
     "metadata": {
      "needs_background": "light"
     },
     "output_type": "display_data"
    }
   ],
   "source": [
    "import matplotlib.pyplot as plt\n",
    "plt.imshow(out)"
   ]
  }
 ],
 "metadata": {
  "kernelspec": {
   "display_name": "Python 3.8.12 ('wblab': conda)",
   "language": "python",
   "name": "python3"
  },
  "language_info": {
   "codemirror_mode": {
    "name": "ipython",
    "version": 3
   },
   "file_extension": ".py",
   "mimetype": "text/x-python",
   "name": "python",
   "nbconvert_exporter": "python",
   "pygments_lexer": "ipython3",
   "version": "3.8.12 (default, Oct 12 2021, 13:49:34) \n[GCC 7.5.0]"
  },
  "orig_nbformat": 4,
  "vscode": {
   "interpreter": {
    "hash": "a7283430bbf6b610aad2b08475f83cdde5c30b9ed8ebcc768249df65b8e7f1bf"
   }
  }
 },
 "nbformat": 4,
 "nbformat_minor": 2
}
